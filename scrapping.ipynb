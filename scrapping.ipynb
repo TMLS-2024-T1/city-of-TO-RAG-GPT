{
 "cells": [
  {
   "cell_type": "code",
   "execution_count": 2,
   "metadata": {},
   "outputs": [],
   "source": [
    "import os\n",
    "import json\n",
    "import shutil\n",
    "import requests\n",
    "import distutils\n",
    "import numpy as np\n",
    "from tqdm import tqdm\n"
   ]
  },
  {
   "cell_type": "code",
   "execution_count": 3,
   "metadata": {},
   "outputs": [],
   "source": [
    "DATA_PATH = './data'\n",
    "TORONTO_OPEN_DATA_URL = 'https://ckan0.cf.opendata.inter.prod-toronto.ca'"
   ]
  },
  {
   "cell_type": "code",
   "execution_count": 4,
   "metadata": {},
   "outputs": [],
   "source": [
    "def download_file(url, path, filename):\n",
    "    response = requests.get(url)\n",
    "    \n",
    "    if response.status_code == 200:\n",
    "        with open(f'{path}/{filename}', 'wb') as f:\n",
    "            f.write(response.content)\n",
    "    else:\n",
    "        raise Exception(f\"Failed to download file. Status code: {response.status_code}\")"
   ]
  },
  {
   "cell_type": "code",
   "execution_count": 5,
   "metadata": {},
   "outputs": [],
   "source": [
    "def scrap_toronto_open_data(start_idx=None):\n",
    "    \n",
    "    datasets_url = TORONTO_OPEN_DATA_URL + '/api/3/action/package_list'\n",
    "    datasets = requests.get(datasets_url).json()['result']\n",
    "    \n",
    "    os.makedirs(f'{DATA_PATH}/excerpts', exist_ok=True)\n",
    "    \n",
    "    for dataset_id in tqdm(datasets if start_idx is None else datasets[start_idx:]):\n",
    "        \n",
    "        dataset_url = TORONTO_OPEN_DATA_URL + '/api/3/action/package_show'\n",
    "        params = {\"id\": dataset_id}\n",
    "        \n",
    "        dataset_package = requests.get(dataset_url, params=params).json()['result']\n",
    "        \n",
    "        if (\n",
    "            distutils.util.strtobool(dataset_package.get('is_retired', 'false')) or\n",
    "            'CSV' not in dataset_package['formats']\n",
    "        ): \n",
    "            continue\n",
    "        \n",
    "        os.makedirs(f'{DATA_PATH}/datasets/{dataset_id}/resources')\n",
    "        \n",
    "        resources = list(filter(lambda res: res['format'] == 'CSV', dataset_package['resources']))\n",
    "        resources = [res for res in resources if ' - 2945' not in res['name'] and ' - 2952' not in res['name']]\n",
    "        \n",
    "        names_stripped = [(res['name'][:-4] if res['name'].endswith('.csv') else res['name']) for res in resources]\n",
    "        _, unique_indices = np.unique(names_stripped, return_index=True)\n",
    "        resources = list(np.array(resources)[unique_indices])\n",
    "\n",
    "        n_failures = 0  \n",
    "        for resource in resources:\n",
    "            try:\n",
    "\n",
    "                resource_name = resource['name']\n",
    "                if not resource_name.endswith('.csv'):\n",
    "                    resource_name = resource['name'] + '.csv'\n",
    "                if ' - 4326' in resource_name:\n",
    "                    resource_name.replace(' - 4326', '')\n",
    "                \n",
    "                download_file(\n",
    "                    resource['url'], \n",
    "                    f'{DATA_PATH}/datasets/{dataset_id}/resources', \n",
    "                    resource_name\n",
    "                )\n",
    "            except:\n",
    "                n_failures += 1\n",
    "                print(f'Failed to download {resource[\"name\"]}.csv in {dataset_id}')\n",
    "        \n",
    "        if n_failures == len(resources) or len(resources)==0:\n",
    "            shutil.rmtree(f'{DATA_PATH}/datasets/{dataset_id}')\n",
    "            continue\n",
    "        \n",
    "        with open(f'{DATA_PATH}/datasets/{dataset_id}/description.json', 'w') as f:\n",
    "            json.dump(dataset_package, f)\n",
    "            \n",
    "        with open(f'{DATA_PATH}/excerpts/{dataset_id}.txt', 'w') as f:\n",
    "            f.writelines(dataset_package['notes'])\n",
    "            "
   ]
  },
  {
   "cell_type": "code",
   "execution_count": 9,
   "metadata": {},
   "outputs": [
    {
     "name": "stderr",
     "output_type": "stream",
     "text": [
      "  0%|          | 2/489 [00:00<00:24, 19.58it/s]"
     ]
    },
    {
     "name": "stderr",
     "output_type": "stream",
     "text": [
      "  4%|▍         | 19/489 [00:05<02:21,  3.32it/s]"
     ]
    },
    {
     "name": "stdout",
     "output_type": "stream",
     "text": [
      "Failed to download Disease Sex and Age groups 2018.csv in annual-summary-of-reportable-communicable-diseases\n"
     ]
    },
    {
     "name": "stderr",
     "output_type": "stream",
     "text": [
      " 16%|█▌        | 76/489 [00:33<02:17,  3.01it/s]"
     ]
    },
    {
     "name": "stdout",
     "output_type": "stream",
     "text": [
      "Failed to download Civic Issues Readme.csv in civic-issue-questionnaire\n"
     ]
    },
    {
     "name": "stderr",
     "output_type": "stream",
     "text": [
      " 17%|█▋        | 81/489 [00:42<16:04,  2.36s/it]"
     ]
    },
    {
     "name": "stdout",
     "output_type": "stream",
     "text": [
      "Failed to download Committee of Adjustments Applications since 2017.csv.csv in committee-of-adjustment-applications\n"
     ]
    },
    {
     "name": "stderr",
     "output_type": "stream",
     "text": [
      " 32%|███▏      | 156/489 [01:35<01:04,  5.18it/s]"
     ]
    }
   ],
   "source": [
    "scrap_toronto_open_data()"
   ]
  },
  {
   "cell_type": "code",
   "execution_count": 6,
   "metadata": {},
   "outputs": [
    {
     "name": "stderr",
     "output_type": "stream",
     "text": [
      "  0%|          | 0/319 [00:00<?, ?it/s]"
     ]
    },
    {
     "name": "stderr",
     "output_type": "stream",
     "text": [
      " 11%|█         | 35/319 [00:24<06:45,  1.43s/it]"
     ]
    },
    {
     "name": "stdout",
     "output_type": "stream",
     "text": [
      "Failed to download Civic Issues.csv in metadata-catalog\n",
      "Failed to download Dataset Category.csv in metadata-catalog\n",
      "Failed to download Formats.csv in metadata-catalog\n",
      "Failed to download Owner Division.csv in metadata-catalog\n",
      "Failed to download Refresh Rate.csv in metadata-catalog\n",
      "Failed to download Topics.csv in metadata-catalog\n"
     ]
    },
    {
     "name": "stderr",
     "output_type": "stream",
     "text": [
      "100%|██████████| 319/319 [02:40<00:00,  1.99it/s]\n"
     ]
    }
   ],
   "source": [
    "scrap_toronto_open_data(start_idx=170)"
   ]
  },
  {
   "cell_type": "code",
   "execution_count": null,
   "metadata": {},
   "outputs": [],
   "source": [
    "def preprocess_datasets():\n",
    "    for dataset in os.listdir(f'{DATA_PATH}/datasets'):\n",
    "        for resource in os.listdir(f'{DATA_PATH}/datasets/{dataset}'):\n",
    "            pf.re\n",
    "            "
   ]
  },
  {
   "cell_type": "code",
   "execution_count": null,
   "metadata": {},
   "outputs": [],
   "source": []
  }
 ],
 "metadata": {
  "kernelspec": {
   "display_name": "Python 3",
   "language": "python",
   "name": "python3"
  },
  "language_info": {
   "codemirror_mode": {
    "name": "ipython",
    "version": 3
   },
   "file_extension": ".py",
   "mimetype": "text/x-python",
   "name": "python",
   "nbconvert_exporter": "python",
   "pygments_lexer": "ipython3",
   "version": "3.10.10"
  }
 },
 "nbformat": 4,
 "nbformat_minor": 4
}
