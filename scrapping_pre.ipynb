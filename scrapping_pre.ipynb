{
 "cells": [
  {
   "cell_type": "code",
   "execution_count": 3,
   "metadata": {},
   "outputs": [],
   "source": [
    "import os\n",
    "import json\n",
    "import shutil\n",
    "import codecs\n",
    "import requests\n",
    "import distutils\n",
    "import numpy as np\n",
    "import pandas as pd\n",
    "from tqdm import tqdm"
   ]
  },
  {
   "cell_type": "code",
   "execution_count": 4,
   "metadata": {},
   "outputs": [],
   "source": [
    "DATA_PATH = './data'\n",
    "TORONTO_OPEN_DATA_URL = 'https://ckan0.cf.opendata.inter.prod-toronto.ca'"
   ]
  },
  {
   "cell_type": "code",
   "execution_count": 5,
   "metadata": {},
   "outputs": [],
   "source": [
    "def download_file(url, path, filename):\n",
    "    response = requests.get(url)\n",
    "    \n",
    "    if response.status_code == 200:\n",
    "        with open(f'{path}/{filename}', 'wb') as f:\n",
    "            f.write(response.content)\n",
    "    else:\n",
    "        raise Exception(f\"Failed to download file. Status code: {response.status_code}\")"
   ]
  },
  {
   "cell_type": "code",
   "execution_count": 4,
   "metadata": {},
   "outputs": [],
   "source": [
    "def scrap_toronto_open_data(start_idx=None):\n",
    "    \n",
    "    datasets_url = TORONTO_OPEN_DATA_URL + '/api/3/action/package_list'\n",
    "    datasets = requests.get(datasets_url).json()['result']\n",
    "    \n",
    "    os.makedirs(f'{DATA_PATH}/excerpts', exist_ok=True)\n",
    "    \n",
    "    for dataset_id in tqdm(datasets if start_idx is None else datasets[start_idx:]):\n",
    "        \n",
    "        dataset_url = TORONTO_OPEN_DATA_URL + '/api/3/action/package_show'\n",
    "        params = {\"id\": dataset_id}\n",
    "        \n",
    "        dataset_package = requests.get(dataset_url, params=params).json()['result']\n",
    "        \n",
    "        if (\n",
    "            distutils.util.strtobool(dataset_package.get('is_retired', 'false')) or\n",
    "            'CSV' not in dataset_package['formats']\n",
    "        ): \n",
    "            continue\n",
    "        \n",
    "        os.makedirs(f'{DATA_PATH}/datasets/{dataset_id}/resources')\n",
    "        \n",
    "        resources = list(filter(lambda res: res['format'] == 'CSV', dataset_package['resources']))\n",
    "        resources = [res for res in resources if ' - 2945' not in res['name'] and ' - 2952' not in res['name']]\n",
    "        \n",
    "        names_stripped = [(res['name'][:-4] if res['name'].endswith('.csv') else res['name']) for res in resources]\n",
    "        _, unique_indices = np.unique(names_stripped, return_index=True)\n",
    "        resources = list(np.array(resources)[unique_indices])\n",
    "\n",
    "        n_failures = 0  \n",
    "        for resource in resources:\n",
    "            try:\n",
    "\n",
    "                resource_name = resource['name']\n",
    "                if not resource_name.endswith('.csv'):\n",
    "                    resource_name = resource['name'] + '.csv'\n",
    "                if ' - 4326' in resource_name:\n",
    "                    resource_name.replace(' - 4326', '')\n",
    "                \n",
    "                download_file(\n",
    "                    resource['url'], \n",
    "                    f'{DATA_PATH}/datasets/{dataset_id}/resources', \n",
    "                    resource_name\n",
    "                )\n",
    "            except:\n",
    "                n_failures += 1\n",
    "                print(f'Failed to download {resource[\"name\"]}.csv in {dataset_id}')\n",
    "        \n",
    "        if n_failures == len(resources) or len(resources)==0:\n",
    "            shutil.rmtree(f'{DATA_PATH}/datasets/{dataset_id}')\n",
    "            continue\n",
    "        \n",
    "        with open(f'{DATA_PATH}/datasets/{dataset_id}/description.json', 'w') as f:\n",
    "            json.dump(dataset_package, f)\n",
    "            \n",
    "        with open(f'{DATA_PATH}/excerpts/{dataset_id}.txt', 'w') as f:\n",
    "            f.writelines(dataset_package['notes'])\n",
    "            "
   ]
  },
  {
   "cell_type": "code",
   "execution_count": 9,
   "metadata": {},
   "outputs": [
    {
     "name": "stderr",
     "output_type": "stream",
     "text": [
      "  0%|          | 2/489 [00:00<00:24, 19.58it/s]"
     ]
    },
    {
     "name": "stderr",
     "output_type": "stream",
     "text": [
      "  4%|▍         | 19/489 [00:05<02:21,  3.32it/s]"
     ]
    },
    {
     "name": "stdout",
     "output_type": "stream",
     "text": [
      "Failed to download Disease Sex and Age groups 2018.csv in annual-summary-of-reportable-communicable-diseases\n"
     ]
    },
    {
     "name": "stderr",
     "output_type": "stream",
     "text": [
      " 16%|█▌        | 76/489 [00:33<02:17,  3.01it/s]"
     ]
    },
    {
     "name": "stdout",
     "output_type": "stream",
     "text": [
      "Failed to download Civic Issues Readme.csv in civic-issue-questionnaire\n"
     ]
    },
    {
     "name": "stderr",
     "output_type": "stream",
     "text": [
      " 17%|█▋        | 81/489 [00:42<16:04,  2.36s/it]"
     ]
    },
    {
     "name": "stdout",
     "output_type": "stream",
     "text": [
      "Failed to download Committee of Adjustments Applications since 2017.csv.csv in committee-of-adjustment-applications\n"
     ]
    },
    {
     "name": "stderr",
     "output_type": "stream",
     "text": [
      " 32%|███▏      | 156/489 [01:35<01:04,  5.18it/s]"
     ]
    }
   ],
   "source": [
    "scrap_toronto_open_data()"
   ]
  },
  {
   "cell_type": "code",
   "execution_count": 6,
   "metadata": {},
   "outputs": [
    {
     "name": "stderr",
     "output_type": "stream",
     "text": [
      "  0%|          | 0/319 [00:00<?, ?it/s]"
     ]
    },
    {
     "name": "stderr",
     "output_type": "stream",
     "text": [
      " 11%|█         | 35/319 [00:24<06:45,  1.43s/it]"
     ]
    },
    {
     "name": "stdout",
     "output_type": "stream",
     "text": [
      "Failed to download Civic Issues.csv in metadata-catalog\n",
      "Failed to download Dataset Category.csv in metadata-catalog\n",
      "Failed to download Formats.csv in metadata-catalog\n",
      "Failed to download Owner Division.csv in metadata-catalog\n",
      "Failed to download Refresh Rate.csv in metadata-catalog\n",
      "Failed to download Topics.csv in metadata-catalog\n"
     ]
    },
    {
     "name": "stderr",
     "output_type": "stream",
     "text": [
      "100%|██████████| 319/319 [02:40<00:00,  1.99it/s]\n"
     ]
    }
   ],
   "source": [
    "scrap_toronto_open_data(start_idx=170)"
   ]
  },
  {
   "cell_type": "code",
   "execution_count": 6,
   "metadata": {},
   "outputs": [],
   "source": [
    "def preprocess_datasets(start_idx=None):\n",
    "    datasets = os.listdir(f'{DATA_PATH}/datasets')\n",
    "    for dataset in tqdm(datasets if start_idx is None else datasets[start_idx:]):\n",
    "        for resource in os.listdir(f'{DATA_PATH}/datasets/{dataset}/resources'):\n",
    "            with codecs.open(f'{DATA_PATH}/datasets/{dataset}/resources/{resource}', 'r', encoding='utf-8', errors='ignore') as file:\n",
    "                text = file.read()\n",
    "\n",
    "            with codecs.open(f'{DATA_PATH}/datasets/{dataset}/resources/{resource}', 'w', encoding='utf-8') as file:\n",
    "                file.write(text)\n",
    "\n",
    "            df = pd.read_csv(f'{DATA_PATH}/datasets/{dataset}/resources/{resource}')\n",
    "\n",
    "            if 'geometry' in df.columns:\n",
    "                df = df.drop('geometry', axis=1)\n",
    "            \n",
    "            df.to_csv(f'{DATA_PATH}/datasets/{dataset}/resources/{resource}')"
   ]
  },
  {
   "cell_type": "code",
   "execution_count": 20,
   "metadata": {},
   "outputs": [
    {
     "name": "stderr",
     "output_type": "stream",
     "text": [
      "  3%|▎         | 4/129 [00:07<03:43,  1.79s/it]/tmp/ipykernel_510688/3291801229.py:5: DtypeWarning: Columns (19,20,23,32) have mixed types. Specify dtype option on import or set low_memory=False.\n",
      "  df = pd.read_csv(f'{DATA_PATH}/datasets/{dataset}/resources/{resource}')\n",
      " 18%|█▊        | 23/129 [00:57<04:24,  2.49s/it]\n"
     ]
    },
    {
     "ename": "ParserError",
     "evalue": "Error tokenizing data. C error: Expected 5 fields in line 9, saw 10\n",
     "output_type": "error",
     "traceback": [
      "\u001b[0;31m---------------------------------------------------------------------------\u001b[0m",
      "\u001b[0;31mParserError\u001b[0m                               Traceback (most recent call last)",
      "Cell \u001b[0;32mIn[20], line 1\u001b[0m\n\u001b[0;32m----> 1\u001b[0m \u001b[43mpreprocess_datasets\u001b[49m\u001b[43m(\u001b[49m\u001b[43mstart_idx\u001b[49m\u001b[38;5;241;43m=\u001b[39;49m\u001b[38;5;241;43m98\u001b[39;49m\u001b[43m)\u001b[49m\n",
      "Cell \u001b[0;32mIn[18], line 5\u001b[0m, in \u001b[0;36mpreprocess_datasets\u001b[0;34m(start_idx)\u001b[0m\n\u001b[1;32m      3\u001b[0m \u001b[38;5;28;01mfor\u001b[39;00m dataset \u001b[38;5;129;01min\u001b[39;00m tqdm(datasets \u001b[38;5;28;01mif\u001b[39;00m start_idx \u001b[38;5;129;01mis\u001b[39;00m \u001b[38;5;28;01mNone\u001b[39;00m \u001b[38;5;28;01melse\u001b[39;00m datasets[start_idx:]):\n\u001b[1;32m      4\u001b[0m     \u001b[38;5;28;01mfor\u001b[39;00m resource \u001b[38;5;129;01min\u001b[39;00m os\u001b[38;5;241m.\u001b[39mlistdir(\u001b[38;5;124mf\u001b[39m\u001b[38;5;124m'\u001b[39m\u001b[38;5;132;01m{\u001b[39;00mDATA_PATH\u001b[38;5;132;01m}\u001b[39;00m\u001b[38;5;124m/datasets/\u001b[39m\u001b[38;5;132;01m{\u001b[39;00mdataset\u001b[38;5;132;01m}\u001b[39;00m\u001b[38;5;124m/resources\u001b[39m\u001b[38;5;124m'\u001b[39m):\n\u001b[0;32m----> 5\u001b[0m         df \u001b[38;5;241m=\u001b[39m \u001b[43mpd\u001b[49m\u001b[38;5;241;43m.\u001b[39;49m\u001b[43mread_csv\u001b[49m\u001b[43m(\u001b[49m\u001b[38;5;124;43mf\u001b[39;49m\u001b[38;5;124;43m'\u001b[39;49m\u001b[38;5;132;43;01m{\u001b[39;49;00m\u001b[43mDATA_PATH\u001b[49m\u001b[38;5;132;43;01m}\u001b[39;49;00m\u001b[38;5;124;43m/datasets/\u001b[39;49m\u001b[38;5;132;43;01m{\u001b[39;49;00m\u001b[43mdataset\u001b[49m\u001b[38;5;132;43;01m}\u001b[39;49;00m\u001b[38;5;124;43m/resources/\u001b[39;49m\u001b[38;5;132;43;01m{\u001b[39;49;00m\u001b[43mresource\u001b[49m\u001b[38;5;132;43;01m}\u001b[39;49;00m\u001b[38;5;124;43m'\u001b[39;49m\u001b[43m)\u001b[49m\n\u001b[1;32m      7\u001b[0m         \u001b[38;5;28;01mif\u001b[39;00m \u001b[38;5;124m'\u001b[39m\u001b[38;5;124mgeometry\u001b[39m\u001b[38;5;124m'\u001b[39m \u001b[38;5;129;01min\u001b[39;00m df\u001b[38;5;241m.\u001b[39mcolumns:\n\u001b[1;32m      8\u001b[0m             df \u001b[38;5;241m=\u001b[39m df\u001b[38;5;241m.\u001b[39mdrop(\u001b[38;5;124m'\u001b[39m\u001b[38;5;124mgeometry\u001b[39m\u001b[38;5;124m'\u001b[39m, axis\u001b[38;5;241m=\u001b[39m\u001b[38;5;241m1\u001b[39m)\n",
      "File \u001b[0;32m/home/zeus/miniconda3/envs/cloudspace/lib/python3.10/site-packages/pandas/io/parsers/readers.py:948\u001b[0m, in \u001b[0;36mread_csv\u001b[0;34m(filepath_or_buffer, sep, delimiter, header, names, index_col, usecols, dtype, engine, converters, true_values, false_values, skipinitialspace, skiprows, skipfooter, nrows, na_values, keep_default_na, na_filter, verbose, skip_blank_lines, parse_dates, infer_datetime_format, keep_date_col, date_parser, date_format, dayfirst, cache_dates, iterator, chunksize, compression, thousands, decimal, lineterminator, quotechar, quoting, doublequote, escapechar, comment, encoding, encoding_errors, dialect, on_bad_lines, delim_whitespace, low_memory, memory_map, float_precision, storage_options, dtype_backend)\u001b[0m\n\u001b[1;32m    935\u001b[0m kwds_defaults \u001b[38;5;241m=\u001b[39m _refine_defaults_read(\n\u001b[1;32m    936\u001b[0m     dialect,\n\u001b[1;32m    937\u001b[0m     delimiter,\n\u001b[0;32m   (...)\u001b[0m\n\u001b[1;32m    944\u001b[0m     dtype_backend\u001b[38;5;241m=\u001b[39mdtype_backend,\n\u001b[1;32m    945\u001b[0m )\n\u001b[1;32m    946\u001b[0m kwds\u001b[38;5;241m.\u001b[39mupdate(kwds_defaults)\n\u001b[0;32m--> 948\u001b[0m \u001b[38;5;28;01mreturn\u001b[39;00m \u001b[43m_read\u001b[49m\u001b[43m(\u001b[49m\u001b[43mfilepath_or_buffer\u001b[49m\u001b[43m,\u001b[49m\u001b[43m \u001b[49m\u001b[43mkwds\u001b[49m\u001b[43m)\u001b[49m\n",
      "File \u001b[0;32m/home/zeus/miniconda3/envs/cloudspace/lib/python3.10/site-packages/pandas/io/parsers/readers.py:617\u001b[0m, in \u001b[0;36m_read\u001b[0;34m(filepath_or_buffer, kwds)\u001b[0m\n\u001b[1;32m    614\u001b[0m     \u001b[38;5;28;01mreturn\u001b[39;00m parser\n\u001b[1;32m    616\u001b[0m \u001b[38;5;28;01mwith\u001b[39;00m parser:\n\u001b[0;32m--> 617\u001b[0m     \u001b[38;5;28;01mreturn\u001b[39;00m \u001b[43mparser\u001b[49m\u001b[38;5;241;43m.\u001b[39;49m\u001b[43mread\u001b[49m\u001b[43m(\u001b[49m\u001b[43mnrows\u001b[49m\u001b[43m)\u001b[49m\n",
      "File \u001b[0;32m/home/zeus/miniconda3/envs/cloudspace/lib/python3.10/site-packages/pandas/io/parsers/readers.py:1748\u001b[0m, in \u001b[0;36mTextFileReader.read\u001b[0;34m(self, nrows)\u001b[0m\n\u001b[1;32m   1741\u001b[0m nrows \u001b[38;5;241m=\u001b[39m validate_integer(\u001b[38;5;124m\"\u001b[39m\u001b[38;5;124mnrows\u001b[39m\u001b[38;5;124m\"\u001b[39m, nrows)\n\u001b[1;32m   1742\u001b[0m \u001b[38;5;28;01mtry\u001b[39;00m:\n\u001b[1;32m   1743\u001b[0m     \u001b[38;5;66;03m# error: \"ParserBase\" has no attribute \"read\"\u001b[39;00m\n\u001b[1;32m   1744\u001b[0m     (\n\u001b[1;32m   1745\u001b[0m         index,\n\u001b[1;32m   1746\u001b[0m         columns,\n\u001b[1;32m   1747\u001b[0m         col_dict,\n\u001b[0;32m-> 1748\u001b[0m     ) \u001b[38;5;241m=\u001b[39m \u001b[38;5;28;43mself\u001b[39;49m\u001b[38;5;241;43m.\u001b[39;49m\u001b[43m_engine\u001b[49m\u001b[38;5;241;43m.\u001b[39;49m\u001b[43mread\u001b[49m\u001b[43m(\u001b[49m\u001b[43m  \u001b[49m\u001b[38;5;66;43;03m# type: ignore[attr-defined]\u001b[39;49;00m\n\u001b[1;32m   1749\u001b[0m \u001b[43m        \u001b[49m\u001b[43mnrows\u001b[49m\n\u001b[1;32m   1750\u001b[0m \u001b[43m    \u001b[49m\u001b[43m)\u001b[49m\n\u001b[1;32m   1751\u001b[0m \u001b[38;5;28;01mexcept\u001b[39;00m \u001b[38;5;167;01mException\u001b[39;00m:\n\u001b[1;32m   1752\u001b[0m     \u001b[38;5;28mself\u001b[39m\u001b[38;5;241m.\u001b[39mclose()\n",
      "File \u001b[0;32m/home/zeus/miniconda3/envs/cloudspace/lib/python3.10/site-packages/pandas/io/parsers/c_parser_wrapper.py:234\u001b[0m, in \u001b[0;36mCParserWrapper.read\u001b[0;34m(self, nrows)\u001b[0m\n\u001b[1;32m    232\u001b[0m \u001b[38;5;28;01mtry\u001b[39;00m:\n\u001b[1;32m    233\u001b[0m     \u001b[38;5;28;01mif\u001b[39;00m \u001b[38;5;28mself\u001b[39m\u001b[38;5;241m.\u001b[39mlow_memory:\n\u001b[0;32m--> 234\u001b[0m         chunks \u001b[38;5;241m=\u001b[39m \u001b[38;5;28;43mself\u001b[39;49m\u001b[38;5;241;43m.\u001b[39;49m\u001b[43m_reader\u001b[49m\u001b[38;5;241;43m.\u001b[39;49m\u001b[43mread_low_memory\u001b[49m\u001b[43m(\u001b[49m\u001b[43mnrows\u001b[49m\u001b[43m)\u001b[49m\n\u001b[1;32m    235\u001b[0m         \u001b[38;5;66;03m# destructive to chunks\u001b[39;00m\n\u001b[1;32m    236\u001b[0m         data \u001b[38;5;241m=\u001b[39m _concatenate_chunks(chunks)\n",
      "File \u001b[0;32mparsers.pyx:843\u001b[0m, in \u001b[0;36mpandas._libs.parsers.TextReader.read_low_memory\u001b[0;34m()\u001b[0m\n",
      "File \u001b[0;32mparsers.pyx:904\u001b[0m, in \u001b[0;36mpandas._libs.parsers.TextReader._read_rows\u001b[0;34m()\u001b[0m\n",
      "File \u001b[0;32mparsers.pyx:879\u001b[0m, in \u001b[0;36mpandas._libs.parsers.TextReader._tokenize_rows\u001b[0;34m()\u001b[0m\n",
      "File \u001b[0;32mparsers.pyx:890\u001b[0m, in \u001b[0;36mpandas._libs.parsers.TextReader._check_tokenize_status\u001b[0;34m()\u001b[0m\n",
      "File \u001b[0;32mparsers.pyx:2058\u001b[0m, in \u001b[0;36mpandas._libs.parsers.raise_parser_error\u001b[0;34m()\u001b[0m\n",
      "\u001b[0;31mParserError\u001b[0m: Error tokenizing data. C error: Expected 5 fields in line 9, saw 10\n"
     ]
    }
   ],
   "source": [
    "preprocess_datasets(start_idx=98)"
   ]
  },
  {
   "cell_type": "code",
   "execution_count": 27,
   "metadata": {},
   "outputs": [
    {
     "name": "stderr",
     "output_type": "stream",
     "text": [
      "  3%|▎         | 4/129 [00:17<09:16,  4.45s/it]/tmp/ipykernel_258653/1873489469.py:11: DtypeWarning: Columns (18,19,22,31) have mixed types. Specify dtype option on import or set low_memory=False.\n",
      "  df = pd.read_csv(f'{DATA_PATH}/datasets/{dataset}/resources/{resource}')\n",
      "  7%|▋         | 9/129 [00:30<05:23,  2.69s/it]/tmp/ipykernel_258653/1873489469.py:11: DtypeWarning: Columns (7) have mixed types. Specify dtype option on import or set low_memory=False.\n",
      "  df = pd.read_csv(f'{DATA_PATH}/datasets/{dataset}/resources/{resource}')\n"
     ]
    }
   ],
   "source": [
    "preprocess_datasets(start_idx=98)"
   ]
  },
  {
   "cell_type": "code",
   "execution_count": 7,
   "metadata": {},
   "outputs": [
    {
     "name": "stderr",
     "output_type": "stream",
     "text": [
      " 22%|██▎       | 27/120 [00:59<02:37,  1.69s/it]/tmp/ipykernel_510688/1873489469.py:11: DtypeWarning: Columns (6,13) have mixed types. Specify dtype option on import or set low_memory=False.\n",
      "  df = pd.read_csv(f'{DATA_PATH}/datasets/{dataset}/resources/{resource}')\n",
      " 27%|██▋       | 32/120 [01:16<04:35,  3.13s/it]/tmp/ipykernel_510688/1873489469.py:11: DtypeWarning: Columns (37,38,39) have mixed types. Specify dtype option on import or set low_memory=False.\n",
      "  df = pd.read_csv(f'{DATA_PATH}/datasets/{dataset}/resources/{resource}')\n",
      " 52%|█████▏    | 62/120 [01:48<00:21,  2.64it/s]/tmp/ipykernel_510688/1873489469.py:11: DtypeWarning: Columns (11) have mixed types. Specify dtype option on import or set low_memory=False.\n",
      "  df = pd.read_csv(f'{DATA_PATH}/datasets/{dataset}/resources/{resource}')\n",
      " 66%|██████▌   | 79/120 [02:08<00:33,  1.22it/s]/tmp/ipykernel_510688/1873489469.py:11: DtypeWarning: Columns (2) have mixed types. Specify dtype option on import or set low_memory=False.\n",
      "  df = pd.read_csv(f'{DATA_PATH}/datasets/{dataset}/resources/{resource}')\n",
      "100%|██████████| 120/120 [02:50<00:00,  1.42s/it]\n"
     ]
    }
   ],
   "source": [
    "preprocess_datasets(start_idx=107)"
   ]
  }
 ],
 "metadata": {
  "kernelspec": {
   "display_name": "Python 3",
   "language": "python",
   "name": "python3"
  },
  "language_info": {
   "name": "python"
  }
 },
 "nbformat": 4,
 "nbformat_minor": 4
}
