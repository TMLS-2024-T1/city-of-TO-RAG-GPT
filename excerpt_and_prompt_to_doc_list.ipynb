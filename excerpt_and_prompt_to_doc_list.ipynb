{
 "cells": [
  {
   "cell_type": "code",
   "execution_count": 2,
   "id": "8548b774-81ca-4ffa-88c2-d377cbf2f12a",
   "metadata": {},
   "outputs": [
    {
     "name": "stdout",
     "output_type": "stream",
     "text": [
      "env: OPENAI_API_KEY=#redacted key\n"
     ]
    }
   ],
   "source": [
    "%env OPENAI_API_KEY #redacted key"
   ]
  },
  {
   "cell_type": "code",
   "execution_count": 18,
   "id": "3e8d1c10-4b67-4ad6-9b50-6b7eac18173d",
   "metadata": {},
   "outputs": [
    {
     "name": "stdout",
     "output_type": "stream",
     "text": [
      "Query: what's the location of indoor bike station?\n",
      "Top 2 relevant documents:\n",
      "1. Source: data/datasets/bicycle-parking-racks\n",
      "\n",
      "2. Source: data/datasets/bicycle-parking-racks\n",
      "\n"
     ]
    }
   ],
   "source": [
    "import os\n",
    "import numpy as np\n",
    "from langchain_community.document_loaders import DirectoryLoader, TextLoader\n",
    "from langchain_openai import OpenAIEmbeddings\n",
    "from langchain_chroma import Chroma\n",
    "from langchain.schema import Document\n",
    "\n",
    "# Step 1: Load documents from the excerpts directory\n",
    "loader = DirectoryLoader('data/excerpts', glob=\"**/*.txt\", loader_cls=TextLoader)\n",
    "documents = loader.load()\n",
    "\n",
    "# Step 2: Create embeddings and store them in a Chroma vector store\n",
    "embeddings = OpenAIEmbeddings()\n",
    "db = Chroma.from_documents(documents, embeddings)\n",
    "\n",
    "def process_query_only_sources(query, k=2):\n",
    "    def map_to_dataset(source):\n",
    "        basename = os.path.basename(source)\n",
    "        name = os.path.splitext(basename)[0]\n",
    "        return \"data/datasets/\" + name\n",
    "        \n",
    "    # Search the database for similar documents\n",
    "    relevant_docs = db.similarity_search(query, k=k)\n",
    "    only_sources = map(map_to_dataset, map(lambda doc: doc.metadata['source'], relevant_docs))\n",
    "\n",
    "    print(f\"Query: {query}\")\n",
    "    print(f\"Top {k} relevant documents:\")\n",
    "    for i, source in enumerate(only_sources, 1):\n",
    "        print(f\"{i}. Source: {source}\")\n",
    "        print()\n",
    "\n",
    "    return only_sources\n",
    "\n",
    "# Example usage\n",
    "query = \"what's the location of indoor bike station?\"\n",
    "relevant_docs = process_query_only_sources(query)"
   ]
  },
  {
   "cell_type": "code",
   "execution_count": null,
   "id": "13bc62e6-0278-4aa8-b0cb-826b1f4398f6",
   "metadata": {},
   "outputs": [],
   "source": []
  }
 ],
 "metadata": {
  "kernelspec": {
   "display_name": "Python 3",
   "language": "python",
   "name": "python3"
  },
  "language_info": {
   "codemirror_mode": {
    "name": "ipython",
    "version": 3
   },
   "file_extension": ".py",
   "mimetype": "text/x-python",
   "name": "python",
   "nbconvert_exporter": "python",
   "pygments_lexer": "ipython3",
   "version": "3.10.10"
  }
 },
 "nbformat": 4,
 "nbformat_minor": 5
}
